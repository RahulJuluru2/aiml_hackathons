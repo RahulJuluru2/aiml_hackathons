{
  "nbformat": 4,
  "nbformat_minor": 0,
  "metadata": {
    "colab": {
      "name": "U2_MH2_Customer_Segmentation.ipynb",
      "provenance": [],
      "collapsed_sections": [],
      "include_colab_link": true
    },
    "kernelspec": {
      "name": "python3",
      "display_name": "Python 3"
    }
  },
  "cells": [
    {
      "cell_type": "markdown",
      "metadata": {
        "id": "view-in-github",
        "colab_type": "text"
      },
      "source": [
        "<a href=\"https://colab.research.google.com/github/RahulJuluru2/aiml_hackathons/blob/main/U2_MH2_Customer_Segmentation.ipynb\" target=\"_parent\"><img src=\"https://colab.research.google.com/assets/colab-badge.svg\" alt=\"Open In Colab\"/></a>"
      ]
    },
    {
      "cell_type": "markdown",
      "metadata": {
        "id": "V3n9jnJ9R9xm"
      },
      "source": [
        "# Advanced Certification in AIML\n",
        "## A Program by IIIT-H and TalentSprint"
      ]
    },
    {
      "cell_type": "markdown",
      "metadata": {
        "id": "1gQGnX6WSBAc"
      },
      "source": [
        "## Problem Statement"
      ]
    },
    {
      "cell_type": "markdown",
      "metadata": {
        "id": "ZBP8TMYXSG4n"
      },
      "source": [
        "Perform customer segmentation using bank data into distinct categories based on their behavioral patterns"
      ]
    },
    {
      "cell_type": "markdown",
      "metadata": {
        "id": "WeHg23di3oHF"
      },
      "source": [
        "## Learning Objectives"
      ]
    },
    {
      "cell_type": "markdown",
      "metadata": {
        "id": "27fwuBVS3tF3"
      },
      "source": [
        "At the end of the experiment, you will be able to:\n",
        "\n",
        "* Understand clustering\n",
        "* Find groups or clusters using K-means algorithm\n",
        "* Visualize the high-dimensional data to low-dimensional data (2D) by applying t-SNE algorithm"
      ]
    },
    {
      "cell_type": "code",
      "metadata": {
        "id": "nYG9AXM_oe--",
        "cellView": "form"
      },
      "source": [
        "#@title  Mini Hackathon Walkthrough\n",
        "from IPython.display import HTML\n",
        "\n",
        "HTML(\"\"\"<video width=\"854\" height=\"480\" controls>\n",
        "  <source src=\"https://cdn.iiith.talentsprint.com/aiml/Experiment_related_data/Walkthrough/Customer_Segmentation.mp4\" type=\"video/mp4\">\n",
        "</video>\n",
        "\"\"\")"
      ],
      "execution_count": null,
      "outputs": []
    },
    {
      "cell_type": "markdown",
      "metadata": {
        "id": "QCUAEC2fEhAO"
      },
      "source": [
        "## Domain Information"
      ]
    },
    {
      "cell_type": "markdown",
      "metadata": {
        "id": "bgLj800BEmQH"
      },
      "source": [
        "- **Customer segmentation** refers to the process of dividing a set of potential customers into groups (or segments) based on shared attributes, interests, and behaviors.\n",
        "- One of the key pain points for bank marketing team is to know their customers and identify their needs.\n",
        "- For this mini-hackathon, we will use the popular **K-Means clustering** algorithm to segment customers based on their behavior from the bank data. The basic concept is that consumers who share common traits would respond to marketing communication in a similar way so that the bank marketing team can reach out to each group in a relevant and effective way."
      ]
    },
    {
      "cell_type": "markdown",
      "metadata": {
        "id": "xgIey_t0bCGL"
      },
      "source": [
        "## Dataset"
      ]
    },
    {
      "cell_type": "markdown",
      "metadata": {
        "id": "LCTyBKLvbJst"
      },
      "source": [
        "### Description"
      ]
    },
    {
      "cell_type": "markdown",
      "metadata": {
        "id": "vPCdlxmSPkzT"
      },
      "source": [
        "The dataset chosen for this mini hackathon is the behavior of customers in the bank for 6 months, this dataset is made up of 13 features.\n",
        "\n",
        "**Attribute Information**\n",
        "\n",
        "- **CUSTID:** Identification of Credit Cardholder \n",
        "- **BALANCE:** Balance amount left in customer's account to make purchases\n",
        "- **PURCHASES:** Amount of purchases made from the account\n",
        "- **INSTALLMENTS_PURCHASES:** Amount of purchase done in installment\n",
        "- **CASH_ADVANCE:** Cash in advance given by the user\n",
        "- **PURCHASES_FREQUENCY:** How frequently the Purchases are being made score between 0 and 1 (1 = frequently purchased, 0 = not frequently purchased)\n",
        "- **CASH_ADVANCE_FREQUENCY:** How frequently the cash in advance being paid\n",
        "- **CASH_ADVANCE_TRX:** Number of Transactions made with \"Cash in Advance\"\n",
        "- **CREDIT_LIMIT:** Limit of Credit Card for user\n",
        "- **PAYMENTS:** Amount of Payment done by a user\n",
        "- **MINIMUM_PAYMENTS:** Minimum amount of payments made by a user\n",
        "- **PRC_FULL_PAYMENT:** Percent of full payment paid by a user\n",
        "- **TENURE:** Tenure of credit card service for user\n",
        "\n",
        "**Note:** The currency values mentioned above are in \"dollars\""
      ]
    },
    {
      "cell_type": "markdown",
      "metadata": {
        "id": "Wf18DcPGbpZw"
      },
      "source": [
        "## Grading = 20 Marks"
      ]
    },
    {
      "cell_type": "markdown",
      "metadata": {
        "id": "9fYwJv9T9--K"
      },
      "source": [
        "## Setup Steps"
      ]
    },
    {
      "cell_type": "code",
      "metadata": {
        "id": "HPdGmFba9--f",
        "cellView": "form"
      },
      "source": [
        "#@title Run this cell to complete the setup for this Notebook\n",
        "\n",
        "from IPython import get_ipython\n",
        "ipython = get_ipython()\n",
        "  \n",
        "notebook=\"U2_MH2_Customer_Segmentation\" #name of the notebook\n",
        "Answer = \"This notebook is graded by mentors on the day of hackathon\"\n",
        "def setup():\n",
        "    ipython.magic(\"sx wget https://cdn.iiith.talentsprint.com/aiml/Experiment_related_data/Marketing_data_clustering.csv\")\n",
        "    print (\"Setup completed successfully\")\n",
        "    return\n",
        "\n",
        "setup()"
      ],
      "execution_count": null,
      "outputs": []
    },
    {
      "cell_type": "markdown",
      "metadata": {
        "id": "q3ksxwTIbz8X"
      },
      "source": [
        "### Importing Required Packages"
      ]
    },
    {
      "cell_type": "code",
      "metadata": {
        "id": "zvhymkVDbkbA"
      },
      "source": [
        "import pandas as pd\n",
        "import numpy as np\n",
        "import seaborn as sns\n",
        "import matplotlib.pyplot as plt\n",
        "from sklearn.preprocessing import StandardScaler\n",
        "from sklearn.cluster import KMeans\n",
        "from sklearn.manifold import TSNE"
      ],
      "execution_count": null,
      "outputs": []
    },
    {
      "cell_type": "markdown",
      "metadata": {
        "id": "ulkzHdBecQW2"
      },
      "source": [
        "## **Stage 1:** Data Pre-Processing (4 Marks)"
      ]
    },
    {
      "cell_type": "markdown",
      "metadata": {
        "id": "_jcX4aRsKMtE"
      },
      "source": [
        "- Replace the missing values in any other column appropriately with mean / median / mode.\n",
        "\n",
        "  Hint: Use pandas [fillna](https://pandas.pydata.org/pandas-docs/stable/reference/api/pandas.DataFrame.fillna.html) function to replace the missing values\n",
        "\n",
        "- Perform correlation on the data features and remove highly correlated features from the data\n",
        "  \n",
        "  Hint: Use pandas [corr](https://pandas.pydata.org/pandas-docs/stable/reference/api/pandas.DataFrame.corr.html)\n",
        "\n",
        "- Drop any unwanted columns\n",
        "  \n",
        "  Hint: Use pandas [drop](https://pandas.pydata.org/pandas-docs/stable/reference/api/pandas.DataFrame.drop.html)\n",
        "\n",
        "- Perform `StandardScaler()` on the data features\n",
        "  \n",
        "  Hint: Use Sklearns [StandardScaler](https://scikit-learn.org/stable/modules/generated/sklearn.preprocessing.StandardScaler.html)\n",
        "\n"
      ]
    },
    {
      "cell_type": "code",
      "metadata": {
        "id": "MhxunfnuEGoG"
      },
      "source": [
        "# YOUR CODE HERE"
      ],
      "execution_count": null,
      "outputs": []
    },
    {
      "cell_type": "markdown",
      "metadata": {
        "id": "CJy81vlOXe-L"
      },
      "source": [
        "## **Stage 2:** K Means (5 Marks)\n",
        "\n",
        "- Find the right number of clusters to be chosen using the elbow method\n",
        "  \n",
        "- Perform K-Means on the chosen optimal number of clusters\n",
        "\n",
        "  **Hint:** Refer to this [link](https://towardsdatascience.com/clustering-algorithms-for-customer-segmentation-af637c6830ac) for finding the k-clusters using elbow method and applying kmeans"
      ]
    },
    {
      "cell_type": "code",
      "metadata": {
        "id": "0e-5RnNvEMyq"
      },
      "source": [
        "# YOUR CODE HERE"
      ],
      "execution_count": null,
      "outputs": []
    },
    {
      "cell_type": "markdown",
      "metadata": {
        "id": "kQjN4hp3rDik"
      },
      "source": [
        "## **Stage 3:** Apply **TSNE** with 2 components (n_components = 2) and visualize the clusters (5 Marks)\n",
        "\n",
        "Hint: Use Sklearns [TSNE](https://scikit-learn.org/stable/modules/generated/sklearn.manifold.TSNE.html)\n",
        "\n",
        "**Note:** Produce a visualization with distinctly isolated clusters and It is not necessary to plot the centroids \n",
        "\n"
      ]
    },
    {
      "cell_type": "code",
      "metadata": {
        "id": "f2KlOhUCETib"
      },
      "source": [
        "# YOUR CODE HERE"
      ],
      "execution_count": null,
      "outputs": []
    },
    {
      "cell_type": "markdown",
      "metadata": {
        "id": "EBmCaBStrJ5b"
      },
      "source": [
        "## **Stage 4:** Insights for each cluster"
      ]
    },
    {
      "cell_type": "markdown",
      "metadata": {
        "id": "tPqbbJu3qr4j"
      },
      "source": [
        "#### **Stage 4(a)** (3 Marks): \n",
        "- To understand the behavior of the customers from each cluster print the respective centroid point values obtained from the scaled dataframe\n",
        "- Get the original representation of the scaled centroid points using [inverse_transformation](https://scikit-learn.org/stable/modules/generated/sklearn.preprocessing.StandardScaler.html#sklearn.preprocessing.StandardScaler.inverse_transform) technique"
      ]
    },
    {
      "cell_type": "code",
      "metadata": {
        "id": "pOsNRxdEEqtL"
      },
      "source": [
        "# YOUR CODE HERE"
      ],
      "execution_count": null,
      "outputs": []
    },
    {
      "cell_type": "markdown",
      "metadata": {
        "id": "MgRa-cgWEwFw"
      },
      "source": [
        "#### **Stage 4(b)** (3 Marks):\n",
        "- Report your observations in the form of text, about the customers based on the centroid points\n",
        "\n",
        "Hint: If require use [clustermap](https://seaborn.pydata.org/generated/seaborn.clustermap.html)"
      ]
    },
    {
      "cell_type": "code",
      "metadata": {
        "id": "_1K_V-5FE-h7"
      },
      "source": [
        "# YOUR ANALYSIS HERE"
      ],
      "execution_count": null,
      "outputs": []
    }
  ]
}